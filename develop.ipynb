{
 "cells": [
  {
   "cell_type": "code",
   "execution_count": 1,
   "metadata": {},
   "outputs": [],
   "source": [
    "import torch"
   ]
  },
  {
   "cell_type": "code",
   "execution_count": 16,
   "metadata": {},
   "outputs": [
    {
     "name": "stdout",
     "output_type": "stream",
     "text": [
      "torch.Size([1, 16, 160, 160])\n",
      "torch.Size([1, 24, 80, 80])\n",
      "torch.Size([1, 32, 40, 40])\n",
      "torch.Size([1, 64, 20, 20])\n",
      "torch.Size([1, 96, 20, 20])\n",
      "torch.Size([1, 160, 10, 10])\n",
      "torch.Size([1, 320, 10, 10])\n",
      "torch.Size([1, 1280, 10, 10])\n",
      "-------\n",
      "torch.Size([1, 64, 320, 320])\n",
      "torch.Size([1, 64, 320, 320])\n",
      "torch.Size([1, 64, 320, 320])\n",
      "torch.Size([1, 64, 320, 320])\n",
      "torch.Size([1, 64, 160, 160])\n",
      "torch.Size([1, 128, 160, 160])\n",
      "torch.Size([1, 128, 160, 160])\n",
      "torch.Size([1, 128, 160, 160])\n",
      "torch.Size([1, 128, 160, 160])\n",
      "torch.Size([1, 512, 40, 40])\n",
      "torch.Size([1, 1024, 20, 20])\n"
     ]
    }
   ],
   "source": [
    "from mmdet.models import MobileNetV2, SSDVGG\n",
    "\n",
    "model = MobileNetV2(out_indices=(0,1,2,3,4,5,6,7))\n",
    "ip=torch.rand(1,3,320,320)\n",
    "outputs = model(ip)\n",
    "\n",
    "for output in outputs:\n",
    "    print(output.shape)\n",
    "print(\"-------\")\n",
    "model = SSDVGG(depth=16,\n",
    "        with_last_pool=False,\n",
    "        ceil_mode=True,\n",
    "        out_feature_indices=(0,1,2,3,4,5,6,7,8,22,34,35,36,37),)\n",
    "ip=torch.rand(1,3,320,320)\n",
    "outputs = model(ip)\n",
    "\n",
    "for output in outputs:\n",
    "    print(output.shape)\n"
   ]
  },
  {
   "cell_type": "code",
   "execution_count": 17,
   "metadata": {},
   "outputs": [
    {
     "data": {
      "text/plain": [
       "tensor(0.9645)"
      ]
     },
     "execution_count": 17,
     "metadata": {},
     "output_type": "execute_result"
    }
   ],
   "source": [
    "torch.max(torch.rand(1,2,3,4))"
   ]
  },
  {
   "cell_type": "code",
   "execution_count": 32,
   "metadata": {},
   "outputs": [
    {
     "name": "stdout",
     "output_type": "stream",
     "text": [
      "tensor([[[0.5871, 0.0195, 0.0523],\n",
      "         [0.6187, 0.6512, 0.0450],\n",
      "         [0.5562, 0.7524, 0.6208]],\n",
      "\n",
      "        [[0.7530, 0.8364, 0.1076],\n",
      "         [0.3092, 0.3029, 0.0502],\n",
      "         [0.1880, 0.9624, 0.0229]]])\n",
      "tensor([[[ True, False, False],\n",
      "         [ True,  True, False],\n",
      "         [ True,  True,  True]],\n",
      "\n",
      "        [[ True,  True, False],\n",
      "         [False, False, False],\n",
      "         [False,  True, False]]])\n",
      "tensor([[ True,  True, False],\n",
      "        [ True,  True, False],\n",
      "        [ True,  True,  True]])\n",
      "tensor([[[ True,  True, False],\n",
      "         [ True,  True, False],\n",
      "         [ True,  True,  True]],\n",
      "\n",
      "        [[ True,  True, False],\n",
      "         [ True,  True, False],\n",
      "         [ True,  True,  True]]])\n"
     ]
    }
   ],
   "source": [
    "mask3d = torch.round(torch.rand(8,4,4))\n",
    "print(mask3d[0])\n",
    "mask5d_ = mask3d.unsqueeze(1).unsqueeze(1)\n",
    "print(mask5d_.shape)\n",
    "mask5d_ = mask5d_.expand_as(torch.rand(8,5,6,4,4))\n",
    "print(mask5d_.shape)\n",
    "print(mask5d_[0,3,1])"
   ]
  },
  {
   "cell_type": "code",
   "execution_count": 34,
   "metadata": {},
   "outputs": [],
   "source": [
    "from kornia.losses import ssim_loss"
   ]
  },
  {
   "cell_type": "code",
   "execution_count": 49,
   "metadata": {},
   "outputs": [
    {
     "name": "stdout",
     "output_type": "stream",
     "text": [
      "tensor([[[[0.5132, 0.8639, 0.8062, 0.9390, 0.5233],\n",
      "          [0.4605, 0.1419, 0.4152, 0.5898, 0.6816],\n",
      "          [0.7861, 0.0202, 0.7319, 0.0143, 0.8278],\n",
      "          [0.3948, 0.0838, 0.1135, 0.4422, 0.7564],\n",
      "          [0.9253, 0.6317, 0.6051, 0.4274, 0.1532]]]])\n",
      "tensor([[[[0.5132, 0.8639, 0.8062, 0.9390, 0.5233],\n",
      "          [0.4605, 0.1419, 0.4152, 0.5898, 0.6816],\n",
      "          [0.7861, 0.0202, 0.7319, 0.0143, 0.8278],\n",
      "          [0.3948, 0.0838, 0.1135, 0.4422, 0.7564],\n",
      "          [0.9253, 0.6317, 0.6051, 0.4274, 0.1532]]]])\n"
     ]
    },
    {
     "data": {
      "text/plain": [
       "tensor(0.)"
      ]
     },
     "execution_count": 49,
     "metadata": {},
     "output_type": "execute_result"
    }
   ],
   "source": [
    "a = torch.rand(1,1,5,5)\n",
    "b = torch.rand(1,1,5,5)\n",
    "b = a\n",
    "print(a), print(b)\n",
    "ssim_loss(a,b, 3)"
   ]
  },
  {
   "cell_type": "code",
   "execution_count": null,
   "metadata": {},
   "outputs": [],
   "source": []
  }
 ],
 "metadata": {
  "interpreter": {
   "hash": "8d77d533843fcc1fc68057961c7929ed63aef06e12e3a034d289bf38fae2af98"
  },
  "kernelspec": {
   "display_name": "Python 3.7.5 64-bit ('.venv': venv)",
   "name": "python3"
  },
  "language_info": {
   "codemirror_mode": {
    "name": "ipython",
    "version": 3
   },
   "file_extension": ".py",
   "mimetype": "text/x-python",
   "name": "python",
   "nbconvert_exporter": "python",
   "pygments_lexer": "ipython3",
   "version": "3.7.5"
  },
  "orig_nbformat": 4
 },
 "nbformat": 4,
 "nbformat_minor": 2
}
